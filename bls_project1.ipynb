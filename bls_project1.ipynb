{
 "cells": [
  {
   "cell_type": "code",
   "execution_count": null,
   "id": "55685507",
   "metadata": {},
   "outputs": [],
   "source": [
    "import json\n",
    "import requests\n",
    "from configbls import api_key"
   ]
  },
  {
   "cell_type": "code",
   "execution_count": null,
   "id": "95ac00aa",
   "metadata": {},
   "outputs": [],
   "source": [
    "url = \"https://api.bls.gov/publicAPI/v2/timeseries/data/?registrationkey=cb9a9eac3207499cbd3edc82d8b41f33&catalog=true&startyear=2017&endyear=2022&calculations=true &annualaverage=true&aspects=true\""
   ]
  }
 ],
 "metadata": {
  "kernelspec": {
   "display_name": "Python 3 (ipykernel)",
   "language": "python",
   "name": "python3"
  },
  "language_info": {
   "codemirror_mode": {
    "name": "ipython",
    "version": 3
   },
   "file_extension": ".py",
   "mimetype": "text/x-python",
   "name": "python",
   "nbconvert_exporter": "python",
   "pygments_lexer": "ipython3",
   "version": "3.7.7"
  }
 },
 "nbformat": 4,
 "nbformat_minor": 5
}
